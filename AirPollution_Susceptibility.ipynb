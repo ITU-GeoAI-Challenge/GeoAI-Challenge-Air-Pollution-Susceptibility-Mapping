{
  "cells": [
    {
      "cell_type": "code",
      "source": [
        "# specifying the path to the directory containing the data\n",
        "data_path = ''"
      ],
      "metadata": {
        "id": "FlgaP3ff973E"
      },
      "id": "FlgaP3ff973E",
      "execution_count": 121,
      "outputs": []
    },
    {
      "cell_type": "code",
      "execution_count": 122,
      "id": "a0515dec",
      "metadata": {
        "id": "a0515dec"
      },
      "outputs": [],
      "source": [
        "#linear algebra and data handling\n",
        "import pandas as pd\n",
        "import numpy as np\n",
        "\n",
        "#preprocessing\n",
        "from sklearn.model_selection import train_test_split\n",
        "from sklearn.preprocessing import LabelEncoder\n",
        "from sklearn.preprocessing import StandardScaler\n",
        "\n",
        "#Developing models\n",
        "from sklearn.ensemble import RandomForestClassifier\n",
        "from sklearn.pipeline import Pipeline\n",
        "from sklearn.feature_selection import SelectKBest\n",
        "\n",
        "\n",
        "#Evaluating models\n",
        "from sklearn.metrics import make_scorer\n",
        "from sklearn.metrics import accuracy_score\n",
        "from sklearn.model_selection import RandomizedSearchCV\n",
        "from scipy.stats import randint,uniform"
      ]
    },
    {
      "cell_type": "code",
      "source": [
        "# Importing data\n",
        "train = pd.read_csv(data_path+'Train.csv')\n",
        "test = pd.read_csv(data_path+'Test.csv',index_col=0)\n",
        "sub = pd.read_csv(data_path+'SampleSubmission.csv')"
      ],
      "metadata": {
        "id": "gurMqDWJ-IAL"
      },
      "id": "gurMqDWJ-IAL",
      "execution_count": 123,
      "outputs": []
    },
    {
      "cell_type": "code",
      "source": [
        "# Creating an identifier for the specific geometries whose data is captured\n",
        "# This identifier is created using a combination of the 'lat' and 'lng' entries\n",
        "train['lat'] = train['lat'].astype('str')\n",
        "train['lng'] = train['lng'].astype('str')\n",
        "train['loc_id'] = train[['lat', 'lng']].apply(lambda x: ','.join(x), axis=1)\n",
        "\n",
        "\n",
        "test['lat'] = test['lat'].astype('str')\n",
        "test['lng'] = test['lng'].astype('str')\n",
        "test['loc_id'] = test[['lat', 'lng']].apply(lambda x: ','.join(x), axis=1)"
      ],
      "metadata": {
        "id": "Tk0m9Kxm-JNR"
      },
      "id": "Tk0m9Kxm-JNR",
      "execution_count": 124,
      "outputs": []
    },
    {
      "cell_type": "code",
      "source": [
        "# The feasibility of the methodology used by this model is that entries in\n",
        "# the zindi test set must have corresponding entries in previous years\n",
        "# so that the forecast can be made based on that\n",
        "# This cell checks if that condition is met\n",
        "\n",
        "train_locs =train.loc_id.unique()\n",
        "testlocs=test.loc_id.unique()\n",
        "commonlocs = set(testlocs).intersection(set(train_locs))\n",
        "print(len(commonlocs)==len(testlocs))"
      ],
      "metadata": {
        "colab": {
          "base_uri": "https://localhost:8080/"
        },
        "id": "kbOBft9MvS3N",
        "outputId": "f448e30e-9782-4ff0-8dd9-b71eb9eaebe4"
      },
      "id": "kbOBft9MvS3N",
      "execution_count": 125,
      "outputs": [
        {
          "output_type": "stream",
          "name": "stdout",
          "text": [
            "True\n"
          ]
        }
      ]
    },
    {
      "cell_type": "code",
      "source": [
        "# Extracting season feature out of the train data's 'date' column\n",
        "v = train['date'].str.split('-',expand=True)\n",
        "train['season'] = v[1].astype('float')\n",
        "def ext_season(mth):\n",
        "  if mth in [1,2,3]:\n",
        "    return 1.0\n",
        "  elif mth in [4,5,6]:\n",
        "    return 2.0\n",
        "  elif mth in [7,8,9]:\n",
        "    return 3.0\n",
        "  else:\n",
        "    return 4.0\n",
        "train['season'] = train['season'].apply(ext_season)"
      ],
      "metadata": {
        "id": "DktXaM13-vLE"
      },
      "id": "DktXaM13-vLE",
      "execution_count": 126,
      "outputs": []
    },
    {
      "cell_type": "code",
      "source": [],
      "metadata": {
        "id": "K8DrzZad-yrP"
      },
      "id": "K8DrzZad-yrP",
      "execution_count": 126,
      "outputs": []
    },
    {
      "cell_type": "code",
      "source": [
        "# Creating a year feature for the train data so each year's data can be\n",
        "# separated. This allows us to easily use a previous year's data to predict\n",
        "# that of the next\n",
        "q = train['date'].str.split('-',expand=True)\n",
        "train['year'] = q[0].astype('float')"
      ],
      "metadata": {
        "id": "6DJMZlST-2xv"
      },
      "id": "6DJMZlST-2xv",
      "execution_count": 127,
      "outputs": []
    },
    {
      "cell_type": "code",
      "source": [
        "# Breaking 2016 data into data for the different seasons in 2016.\n",
        "# To get a single observation for each unique geometry (identified by 'loc_id'),\n",
        "# we group by 'loc_id' for each season in 2016 and aggregating by the mean value.\n",
        "# To also tackle the issue of different 'aqi' values for the same geometry within\n",
        "# the same year, we take the mode of 'aqi' value for the specific geometry for the\n",
        "# specific season in 2016\n",
        "train_2016_winter = train[(train['year']==2016) & (train['season']==1.0)]\n",
        "train_2016_winter_mean = train_2016_winter.groupby('loc_id', as_index=False).mean()#.reset_index()\n",
        "train_2016_winter_mode = train_2016_winter.groupby('loc_id')['aqi'].agg(lambda x: pd.Series.mode(x)[0]).reset_index()\n",
        "train_2016_winter = pd.merge(train_2016_winter_mode, train_2016_winter_mean.drop('aqi',axis=1), on='loc_id')\n",
        "\n",
        "train_2016_spring = train[(train['year']==2016) & (train['season']==2.0)]\n",
        "train_2016_spring_mean = train_2016_spring.groupby('loc_id').mean().reset_index()\n",
        "train_2016_spring_mode = train_2016_spring.groupby('loc_id')['aqi'].agg(lambda x: pd.Series.mode(x)[0]).reset_index()\n",
        "train_2016_spring = pd.merge(train_2016_spring_mode, train_2016_spring_mean.drop('aqi',axis=1), on='loc_id')\n",
        "\n",
        "train_2016_summer = train[(train['year']==2016) & (train['season']==3.0)]\n",
        "train_2016_summer_mean = train_2016_summer.groupby('loc_id').mean().reset_index()\n",
        "train_2016_summer_mode = train_2016_summer.groupby('loc_id')['aqi'].agg(lambda x: pd.Series.mode(x)[0]).reset_index()\n",
        "train_2016_summer = pd.merge(train_2016_summer_mode, train_2016_summer_mean.drop('aqi',axis=1), on='loc_id')\n",
        "\n",
        "train_2016_autumn = train[(train['year']==2016) & (train['season']==4.0)]\n",
        "train_2016_autumn_mean = train_2016_autumn.groupby('loc_id').mean().reset_index()\n",
        "train_2016_autumn_mode = train_2016_autumn.groupby('loc_id')['aqi'].agg(lambda x: pd.Series.mode(x)[0]).reset_index()\n",
        "train_2016_autumn = pd.merge(train_2016_autumn_mode, train_2016_autumn_mean.drop('aqi',axis=1), on='loc_id')\n",
        "\n",
        "train_2016 = pd.concat([train_2016_winter,train_2016_spring,train_2016_summer,train_2016_autumn],axis=0).reset_index(drop=True)"
      ],
      "metadata": {
        "colab": {
          "base_uri": "https://localhost:8080/"
        },
        "id": "gUVj76nK-3GR",
        "outputId": "d6d76673-58c5-4d94-b50b-6bb816ba6698"
      },
      "id": "gUVj76nK-3GR",
      "execution_count": 128,
      "outputs": [
        {
          "output_type": "stream",
          "name": "stderr",
          "text": [
            "<ipython-input-128-bc8f8fe1d8b7>:8: FutureWarning: The default value of numeric_only in DataFrameGroupBy.mean is deprecated. In a future version, numeric_only will default to False. Either specify numeric_only or select only columns which should be valid for the function.\n",
            "  train_2016_winter_mean = train_2016_winter.groupby('loc_id', as_index=False).mean()#.reset_index()\n",
            "<ipython-input-128-bc8f8fe1d8b7>:13: FutureWarning: The default value of numeric_only in DataFrameGroupBy.mean is deprecated. In a future version, numeric_only will default to False. Either specify numeric_only or select only columns which should be valid for the function.\n",
            "  train_2016_spring_mean = train_2016_spring.groupby('loc_id').mean().reset_index()\n",
            "<ipython-input-128-bc8f8fe1d8b7>:18: FutureWarning: The default value of numeric_only in DataFrameGroupBy.mean is deprecated. In a future version, numeric_only will default to False. Either specify numeric_only or select only columns which should be valid for the function.\n",
            "  train_2016_summer_mean = train_2016_summer.groupby('loc_id').mean().reset_index()\n",
            "<ipython-input-128-bc8f8fe1d8b7>:23: FutureWarning: The default value of numeric_only in DataFrameGroupBy.mean is deprecated. In a future version, numeric_only will default to False. Either specify numeric_only or select only columns which should be valid for the function.\n",
            "  train_2016_autumn_mean = train_2016_autumn.groupby('loc_id').mean().reset_index()\n"
          ]
        }
      ]
    },
    {
      "cell_type": "code",
      "source": [
        "# Breaking 2017 data into data for the different seasons in 2017.\n",
        "# To get a single observation for each unique geometry (identified by 'loc_id'),\n",
        "# we group by 'loc_id' for each season in 2017 and aggregating by the mean value.\n",
        "# To also tackle the issue of different 'aqi' values for the same geometry within\n",
        "# the same year, we take the mode of 'aqi' value for the specific geometry for the\n",
        "# specific season in 2017\n",
        "train_2017_winter = train[(train['year']==2017) & (train['season']==1.0)]\n",
        "train_2017_winter_mean = train_2017_winter.groupby('loc_id', as_index=False).mean()#.reset_index()\n",
        "train_2017_winter_mode = train_2017_winter.groupby('loc_id')['aqi'].agg(lambda x: pd.Series.mode(x)[0]).reset_index()\n",
        "train_2017_winter = pd.merge(train_2017_winter_mode, train_2017_winter_mean.drop('aqi',axis=1), on='loc_id')\n",
        "\n",
        "train_2017_spring = train[(train['year']==2017) & (train['season']==2.0)]\n",
        "train_2017_spring_mean = train_2017_spring.groupby('loc_id').mean().reset_index()\n",
        "train_2017_spring_mode = train_2017_spring.groupby('loc_id')['aqi'].agg(lambda x: pd.Series.mode(x)[0]).reset_index()\n",
        "train_2017_spring = pd.merge(train_2017_spring_mode, train_2017_spring_mean.drop('aqi',axis=1), on='loc_id')\n",
        "\n",
        "train_2017_summer = train[(train['year']==2017) & (train['season']==3.0)]\n",
        "train_2017_summer_mean = train_2017_summer.groupby('loc_id').mean().reset_index()\n",
        "train_2017_summer_mode = train_2017_summer.groupby('loc_id')['aqi'].agg(lambda x: pd.Series.mode(x)[0]).reset_index()\n",
        "train_2017_summer = pd.merge(train_2017_summer_mode, train_2017_summer_mean.drop('aqi',axis=1), on='loc_id')\n",
        "\n",
        "train_2017_autumn = train[(train['year']==2017) & (train['season']==4.0)]\n",
        "train_2017_autumn_mean = train_2017_autumn.groupby('loc_id').mean().reset_index()\n",
        "train_2017_autumn_mode = train_2017_autumn.groupby('loc_id')['aqi'].agg(lambda x: pd.Series.mode(x)[0]).reset_index()\n",
        "train_2017_autumn = pd.merge(train_2017_autumn_mode, train_2017_autumn_mean.drop('aqi',axis=1), on='loc_id')\n",
        "\n",
        "train_2017 = pd.concat([train_2017_winter,train_2017_spring,train_2017_summer,train_2017_autumn],axis=0).reset_index(drop=True)"
      ],
      "metadata": {
        "colab": {
          "base_uri": "https://localhost:8080/"
        },
        "id": "IDudt_1Y-3I_",
        "outputId": "fbace6ec-aabf-47b9-f059-0c7dd557c652"
      },
      "id": "IDudt_1Y-3I_",
      "execution_count": 129,
      "outputs": [
        {
          "output_type": "stream",
          "name": "stderr",
          "text": [
            "<ipython-input-129-3826dbce95fc>:8: FutureWarning: The default value of numeric_only in DataFrameGroupBy.mean is deprecated. In a future version, numeric_only will default to False. Either specify numeric_only or select only columns which should be valid for the function.\n",
            "  train_2017_winter_mean = train_2017_winter.groupby('loc_id', as_index=False).mean()#.reset_index()\n",
            "<ipython-input-129-3826dbce95fc>:13: FutureWarning: The default value of numeric_only in DataFrameGroupBy.mean is deprecated. In a future version, numeric_only will default to False. Either specify numeric_only or select only columns which should be valid for the function.\n",
            "  train_2017_spring_mean = train_2017_spring.groupby('loc_id').mean().reset_index()\n",
            "<ipython-input-129-3826dbce95fc>:18: FutureWarning: The default value of numeric_only in DataFrameGroupBy.mean is deprecated. In a future version, numeric_only will default to False. Either specify numeric_only or select only columns which should be valid for the function.\n",
            "  train_2017_summer_mean = train_2017_summer.groupby('loc_id').mean().reset_index()\n",
            "<ipython-input-129-3826dbce95fc>:23: FutureWarning: The default value of numeric_only in DataFrameGroupBy.mean is deprecated. In a future version, numeric_only will default to False. Either specify numeric_only or select only columns which should be valid for the function.\n",
            "  train_2017_autumn_mean = train_2017_autumn.groupby('loc_id').mean().reset_index()\n"
          ]
        }
      ]
    },
    {
      "cell_type": "code",
      "source": [
        "# Breaking 2018 data into data for the different seasons in 2018.\n",
        "# To get a single observation for each unique geometry (identified by 'loc_id'),\n",
        "# we group by 'loc_id' for each season in 2018 and aggregating by the mean value.\n",
        "# To also tackle the issue of different 'aqi' values for the same geometry within\n",
        "# the same year, we take the mode of 'aqi' value for the specific geometry for the\n",
        "# specific season in 2018\n",
        "train_2018_winter = train[(train['year']==2018) & (train['season']==1.0)]\n",
        "train_2018_winter_mean = train_2018_winter.groupby('loc_id', as_index=False).mean()#.reset_index()\n",
        "train_2018_winter_mode = train_2018_winter.groupby('loc_id')['aqi'].agg(lambda x: pd.Series.mode(x)[0]).reset_index()\n",
        "train_2018_winter = pd.merge(train_2018_winter_mode, train_2018_winter_mean.drop('aqi',axis=1), on='loc_id')\n",
        "\n",
        "train_2018_spring = train[(train['year']==2018) & (train['season']==2.0)]\n",
        "train_2018_spring_mean = train_2018_spring.groupby('loc_id').mean().reset_index()\n",
        "train_2018_spring_mode = train_2018_spring.groupby('loc_id')['aqi'].agg(lambda x: pd.Series.mode(x)[0]).reset_index()\n",
        "train_2018_spring = pd.merge(train_2018_spring_mode, train_2018_spring_mean.drop('aqi',axis=1), on='loc_id')\n",
        "\n",
        "train_2018_summer = train[(train['year']==2018) & (train['season']==3.0)]\n",
        "train_2018_summer_mean = train_2018_summer.groupby('loc_id').mean().reset_index()\n",
        "train_2018_summer_mode = train_2018_summer.groupby('loc_id')['aqi'].agg(lambda x: pd.Series.mode(x)[0]).reset_index()\n",
        "train_2018_summer = pd.merge(train_2018_summer_mode, train_2018_summer_mean.drop('aqi',axis=1), on='loc_id')\n",
        "\n",
        "train_2018_autumn = train[(train['year']==2018) & (train['season']==4.0)]\n",
        "train_2018_autumn_mean = train_2018_autumn.groupby('loc_id').mean().reset_index()\n",
        "train_2018_autumn_mode = train_2018_autumn.groupby('loc_id')['aqi'].agg(lambda x: pd.Series.mode(x)[0]).reset_index()\n",
        "train_2018_autumn = pd.merge(train_2018_autumn_mode, train_2018_autumn_mean.drop('aqi',axis=1), on='loc_id')\n",
        "\n",
        "train_2018 = pd.concat([train_2018_winter,train_2018_spring,train_2018_summer,train_2018_autumn],axis=0).reset_index(drop=True)"
      ],
      "metadata": {
        "colab": {
          "base_uri": "https://localhost:8080/"
        },
        "id": "2809zuDm-3Lp",
        "outputId": "98bc6168-77a9-48de-ea1e-44864956102e"
      },
      "id": "2809zuDm-3Lp",
      "execution_count": 130,
      "outputs": [
        {
          "output_type": "stream",
          "name": "stderr",
          "text": [
            "<ipython-input-130-1cde1f0b9f5b>:8: FutureWarning: The default value of numeric_only in DataFrameGroupBy.mean is deprecated. In a future version, numeric_only will default to False. Either specify numeric_only or select only columns which should be valid for the function.\n",
            "  train_2018_winter_mean = train_2018_winter.groupby('loc_id', as_index=False).mean()#.reset_index()\n",
            "<ipython-input-130-1cde1f0b9f5b>:13: FutureWarning: The default value of numeric_only in DataFrameGroupBy.mean is deprecated. In a future version, numeric_only will default to False. Either specify numeric_only or select only columns which should be valid for the function.\n",
            "  train_2018_spring_mean = train_2018_spring.groupby('loc_id').mean().reset_index()\n",
            "<ipython-input-130-1cde1f0b9f5b>:18: FutureWarning: The default value of numeric_only in DataFrameGroupBy.mean is deprecated. In a future version, numeric_only will default to False. Either specify numeric_only or select only columns which should be valid for the function.\n",
            "  train_2018_summer_mean = train_2018_summer.groupby('loc_id').mean().reset_index()\n",
            "<ipython-input-130-1cde1f0b9f5b>:23: FutureWarning: The default value of numeric_only in DataFrameGroupBy.mean is deprecated. In a future version, numeric_only will default to False. Either specify numeric_only or select only columns which should be valid for the function.\n",
            "  train_2018_autumn_mean = train_2018_autumn.groupby('loc_id').mean().reset_index()\n"
          ]
        }
      ]
    },
    {
      "cell_type": "code",
      "source": [
        "# Breaking 2019 data into data for the different seasons in 2019.\n",
        "# To get a single observation for each unique geometry (identified by 'loc_id'),\n",
        "# we group by 'loc_id' for each season in 2019 and aggregating by the mean value.\n",
        "# To also tackle the issue of different 'aqi' values for the same geometry within\n",
        "# the same year, we take the mode of 'aqi' value for the specific geometry for the\n",
        "# specific season in 2019\n",
        "train_2019_winter = train[(train['year']==2019) & (train['season']==1.0)]\n",
        "train_2019_winter_mean = train_2019_winter.groupby('loc_id', as_index=False).mean()#.reset_index()\n",
        "train_2019_winter_mode = train_2019_winter.groupby('loc_id')['aqi'].agg(lambda x: pd.Series.mode(x)[0]).reset_index()\n",
        "train_2019_winter = pd.merge(train_2019_winter_mode, train_2019_winter_mean.drop('aqi',axis=1), on='loc_id')\n",
        "\n",
        "train_2019_spring = train[(train['year']==2019) & (train['season']==2.0)]\n",
        "train_2019_spring_mean = train_2019_spring.groupby('loc_id').mean().reset_index()\n",
        "train_2019_spring_mode = train_2019_spring.groupby('loc_id')['aqi'].agg(lambda x: pd.Series.mode(x)[0]).reset_index()\n",
        "train_2019_spring = pd.merge(train_2019_spring_mode, train_2019_spring_mean.drop('aqi',axis=1), on='loc_id')\n",
        "\n",
        "train_2019_summer = train[(train['year']==2019) & (train['season']==3.0)]\n",
        "train_2019_summer_mean = train_2019_summer.groupby('loc_id').mean().reset_index()\n",
        "train_2019_summer_mode = train_2019_summer.groupby('loc_id')['aqi'].agg(lambda x: pd.Series.mode(x)[0]).reset_index()\n",
        "train_2019_summer = pd.merge(train_2019_summer_mode, train_2019_summer_mean.drop('aqi',axis=1), on='loc_id')\n",
        "\n",
        "train_2019_autumn = train[(train['year']==2019) & (train['season']==4.0)]\n",
        "train_2019_autumn_mean = train_2019_autumn.groupby('loc_id').mean().reset_index()\n",
        "train_2019_autumn_mode = train_2019_autumn.groupby('loc_id')['aqi'].agg(lambda x: pd.Series.mode(x)[0]).reset_index()\n",
        "train_2019_autumn = pd.merge(train_2019_autumn_mode, train_2019_autumn_mean.drop('aqi',axis=1), on='loc_id')\n",
        "\n",
        "train_2019 = pd.concat([train_2019_winter,train_2019_spring,train_2019_summer,train_2019_autumn],axis=0).reset_index(drop=True)"
      ],
      "metadata": {
        "colab": {
          "base_uri": "https://localhost:8080/"
        },
        "id": "R4Juv5C3-3PF",
        "outputId": "462b2fe8-2610-4beb-e3cf-c174ee4fe0db"
      },
      "id": "R4Juv5C3-3PF",
      "execution_count": 131,
      "outputs": [
        {
          "output_type": "stream",
          "name": "stderr",
          "text": [
            "<ipython-input-131-cae8be310f81>:8: FutureWarning: The default value of numeric_only in DataFrameGroupBy.mean is deprecated. In a future version, numeric_only will default to False. Either specify numeric_only or select only columns which should be valid for the function.\n",
            "  train_2019_winter_mean = train_2019_winter.groupby('loc_id', as_index=False).mean()#.reset_index()\n",
            "<ipython-input-131-cae8be310f81>:13: FutureWarning: The default value of numeric_only in DataFrameGroupBy.mean is deprecated. In a future version, numeric_only will default to False. Either specify numeric_only or select only columns which should be valid for the function.\n",
            "  train_2019_spring_mean = train_2019_spring.groupby('loc_id').mean().reset_index()\n",
            "<ipython-input-131-cae8be310f81>:18: FutureWarning: The default value of numeric_only in DataFrameGroupBy.mean is deprecated. In a future version, numeric_only will default to False. Either specify numeric_only or select only columns which should be valid for the function.\n",
            "  train_2019_summer_mean = train_2019_summer.groupby('loc_id').mean().reset_index()\n",
            "<ipython-input-131-cae8be310f81>:23: FutureWarning: The default value of numeric_only in DataFrameGroupBy.mean is deprecated. In a future version, numeric_only will default to False. Either specify numeric_only or select only columns which should be valid for the function.\n",
            "  train_2019_autumn_mean = train_2019_autumn.groupby('loc_id').mean().reset_index()\n"
          ]
        }
      ]
    },
    {
      "cell_type": "code",
      "source": [
        "# Breaking 2020 data into data for the different seasons in 2020.\n",
        "# To get a single observation for each unique geometry (identified by 'loc_id'),\n",
        "# we group by 'loc_id' for each season in 2020 and aggregating by the mean value.\n",
        "# To also tackle the issue of different 'aqi' values for the same geometry within\n",
        "# the same year, we take the mode of 'aqi' value for the specific geometry for the\n",
        "# specific season in 2020\n",
        "train_2020_winter = train[(train['year']==2020) & (train['season']==1.0)]\n",
        "train_2020_winter_mean = train_2020_winter.groupby('loc_id', as_index=False).mean()#.reset_index()\n",
        "train_2020_winter_mode = train_2020_winter.groupby('loc_id')['aqi'].agg(lambda x: pd.Series.mode(x)[0]).reset_index()\n",
        "train_2020_winter = pd.merge(train_2020_winter_mode, train_2020_winter_mean.drop('aqi',axis=1), on='loc_id')\n",
        "\n",
        "train_2020_spring = train[(train['year']==2020) & (train['season']==2.0)]\n",
        "train_2020_spring_mean = train_2020_spring.groupby('loc_id').mean().reset_index()\n",
        "train_2020_spring_mode = train_2020_spring.groupby('loc_id')['aqi'].agg(lambda x: pd.Series.mode(x)[0]).reset_index()\n",
        "train_2020_spring = pd.merge(train_2020_spring_mode, train_2020_spring_mean.drop('aqi',axis=1), on='loc_id')\n",
        "\n",
        "train_2020_summer = train[(train['year']==2020) & (train['season']==3.0)]\n",
        "train_2020_summer_mean = train_2020_summer.groupby('loc_id').mean().reset_index()\n",
        "train_2020_summer_mode = train_2020_summer.groupby('loc_id')['aqi'].agg(lambda x: pd.Series.mode(x)[0]).reset_index()\n",
        "train_2020_summer = pd.merge(train_2020_summer_mode, train_2020_summer_mean.drop('aqi',axis=1), on='loc_id')\n",
        "\n",
        "train_2020_autumn = train[(train['year']==2020) & (train['season']==4.0)]\n",
        "train_2020_autumn_mean = train_2020_autumn.groupby('loc_id').mean().reset_index()\n",
        "train_2020_autumn_mode = train_2020_autumn.groupby('loc_id')['aqi'].agg(lambda x: pd.Series.mode(x)[0]).reset_index()\n",
        "train_2020_autumn = pd.merge(train_2020_autumn_mode, train_2020_autumn_mean.drop('aqi',axis=1), on='loc_id')\n",
        "\n",
        "train_2020 = pd.concat([train_2020_winter,train_2020_spring,train_2020_summer,train_2020_autumn],axis=0).reset_index(drop=True)"
      ],
      "metadata": {
        "colab": {
          "base_uri": "https://localhost:8080/"
        },
        "id": "NTVWRExq_TO4",
        "outputId": "2e6cbe7e-7730-45c7-9153-668b926c4ec2"
      },
      "id": "NTVWRExq_TO4",
      "execution_count": 132,
      "outputs": [
        {
          "output_type": "stream",
          "name": "stderr",
          "text": [
            "<ipython-input-132-9c85e582428a>:8: FutureWarning: The default value of numeric_only in DataFrameGroupBy.mean is deprecated. In a future version, numeric_only will default to False. Either specify numeric_only or select only columns which should be valid for the function.\n",
            "  train_2020_winter_mean = train_2020_winter.groupby('loc_id', as_index=False).mean()#.reset_index()\n",
            "<ipython-input-132-9c85e582428a>:13: FutureWarning: The default value of numeric_only in DataFrameGroupBy.mean is deprecated. In a future version, numeric_only will default to False. Either specify numeric_only or select only columns which should be valid for the function.\n",
            "  train_2020_spring_mean = train_2020_spring.groupby('loc_id').mean().reset_index()\n",
            "<ipython-input-132-9c85e582428a>:18: FutureWarning: The default value of numeric_only in DataFrameGroupBy.mean is deprecated. In a future version, numeric_only will default to False. Either specify numeric_only or select only columns which should be valid for the function.\n",
            "  train_2020_summer_mean = train_2020_summer.groupby('loc_id').mean().reset_index()\n",
            "<ipython-input-132-9c85e582428a>:23: FutureWarning: The default value of numeric_only in DataFrameGroupBy.mean is deprecated. In a future version, numeric_only will default to False. Either specify numeric_only or select only columns which should be valid for the function.\n",
            "  train_2020_autumn_mean = train_2020_autumn.groupby('loc_id').mean().reset_index()\n"
          ]
        }
      ]
    },
    {
      "cell_type": "code",
      "source": [
        "# Breaking 2021 data into data for the different seasons in 2021.\n",
        "# To get a single observation for each unique geometry (identified by 'loc_id'),\n",
        "# we group by 'loc_id' for each season in 2021 and aggregating by the mean value.\n",
        "# To also tackle the issue of different 'aqi' values for the same geometry within\n",
        "# the same year, we take the mode of 'aqi' value for the specific geometry for the\n",
        "# specific season in 2021\n",
        "train_2021_winter = train[(train['year']==2021) & (train['season']==1.0)]\n",
        "train_2021_winter_mean = train_2021_winter.groupby('loc_id', as_index=False).mean()#.reset_index()\n",
        "train_2021_winter_mode = train_2021_winter.groupby('loc_id')['aqi'].agg(lambda x: pd.Series.mode(x)[0]).reset_index()\n",
        "train_2021_winter = pd.merge(train_2021_winter_mode, train_2021_winter_mean.drop('aqi',axis=1), on='loc_id')\n",
        "\n",
        "train_2021_spring = train[(train['year']==2021) & (train['season']==2.0)]\n",
        "train_2021_spring_mean = train_2021_spring.groupby('loc_id').mean().reset_index()\n",
        "train_2021_spring_mode = train_2021_spring.groupby('loc_id')['aqi'].agg(lambda x: pd.Series.mode(x)[0]).reset_index()\n",
        "train_2021_spring = pd.merge(train_2021_spring_mode, train_2021_spring_mean.drop('aqi',axis=1), on='loc_id')\n",
        "\n",
        "train_2021_summer = train[(train['year']==2021) & (train['season']==3.0)]\n",
        "train_2021_summer_mean = train_2021_summer.groupby('loc_id').mean().reset_index()\n",
        "train_2021_summer_mode = train_2021_summer.groupby('loc_id')['aqi'].agg(lambda x: pd.Series.mode(x)[0]).reset_index()\n",
        "train_2021_summer = pd.merge(train_2021_summer_mode, train_2021_summer_mean.drop('aqi',axis=1), on='loc_id')\n",
        "\n",
        "train_2021_autumn = train[(train['year']==2021) & (train['season']==4.0)]\n",
        "train_2021_autumn_mean = train_2021_autumn.groupby('loc_id').mean().reset_index()\n",
        "train_2021_autumn_mode = train_2021_autumn.groupby('loc_id')['aqi'].agg(lambda x: pd.Series.mode(x)[0]).reset_index()\n",
        "train_2021_autumn = pd.merge(train_2021_autumn_mode, train_2021_autumn_mean.drop('aqi',axis=1), on='loc_id')\n",
        "\n",
        "train_2021 = pd.concat([train_2021_winter,train_2021_spring,train_2021_summer,train_2021_autumn],axis=0).reset_index(drop=True)"
      ],
      "metadata": {
        "colab": {
          "base_uri": "https://localhost:8080/"
        },
        "id": "mwEdVB3A_TTa",
        "outputId": "a85b3160-72b2-48e8-8e48-6eacc5bfd817"
      },
      "id": "mwEdVB3A_TTa",
      "execution_count": 133,
      "outputs": [
        {
          "output_type": "stream",
          "name": "stderr",
          "text": [
            "<ipython-input-133-0af1fa30a9c5>:8: FutureWarning: The default value of numeric_only in DataFrameGroupBy.mean is deprecated. In a future version, numeric_only will default to False. Either specify numeric_only or select only columns which should be valid for the function.\n",
            "  train_2021_winter_mean = train_2021_winter.groupby('loc_id', as_index=False).mean()#.reset_index()\n",
            "<ipython-input-133-0af1fa30a9c5>:13: FutureWarning: The default value of numeric_only in DataFrameGroupBy.mean is deprecated. In a future version, numeric_only will default to False. Either specify numeric_only or select only columns which should be valid for the function.\n",
            "  train_2021_spring_mean = train_2021_spring.groupby('loc_id').mean().reset_index()\n",
            "<ipython-input-133-0af1fa30a9c5>:18: FutureWarning: The default value of numeric_only in DataFrameGroupBy.mean is deprecated. In a future version, numeric_only will default to False. Either specify numeric_only or select only columns which should be valid for the function.\n",
            "  train_2021_summer_mean = train_2021_summer.groupby('loc_id').mean().reset_index()\n",
            "<ipython-input-133-0af1fa30a9c5>:23: FutureWarning: The default value of numeric_only in DataFrameGroupBy.mean is deprecated. In a future version, numeric_only will default to False. Either specify numeric_only or select only columns which should be valid for the function.\n",
            "  train_2021_autumn_mean = train_2021_autumn.groupby('loc_id').mean().reset_index()\n"
          ]
        }
      ]
    },
    {
      "cell_type": "code",
      "source": [
        "# Extracting the features for the zindi test data based on the specific\n",
        "# geometry given. This submission makes use of 2016 as the previous year\n",
        "# data\n",
        "protest = pd.merge(test,train_2021,on=['loc_id','season'],how='left')\n"
      ],
      "metadata": {
        "id": "ecQqvQxW_TWz"
      },
      "id": "ecQqvQxW_TWz",
      "execution_count": 134,
      "outputs": []
    },
    {
      "cell_type": "code",
      "source": [
        "# Creating a function that will take a particular year's data and return\n",
        "# a dataframe of features (i.e the previous year's data) that can be used\n",
        "# to predict the present year's 'aqi' values (also included in the returned\n",
        "# dataframe) as a target.\n",
        "def proc_train(data,prev_df):\n",
        "  dt = data[['loc_id','season','aqi']]\n",
        "  ndt= pd.merge(dt,prev_df,on=['loc_id','season'])\n",
        "  return ndt"
      ],
      "metadata": {
        "id": "Tuni2CVJ_TgZ"
      },
      "id": "Tuni2CVJ_TgZ",
      "execution_count": 135,
      "outputs": []
    },
    {
      "cell_type": "code",
      "source": [
        "# applying above function to process train data for 2017,2018,2019,2020,2021\n",
        "pretrain2017 = proc_train(train_2017,train_2016)\n",
        "pretrain2018 = proc_train(train_2018,train_2017)\n",
        "pretrain2019 = proc_train(train_2019,train_2018)\n",
        "pretrain2020 = proc_train(train_2020,train_2019)\n",
        "pretrain2021 = proc_train(train_2021,train_2020)"
      ],
      "metadata": {
        "id": "AXuVI41w_mgF"
      },
      "id": "AXuVI41w_mgF",
      "execution_count": 136,
      "outputs": []
    },
    {
      "cell_type": "code",
      "source": [
        "# combining processed train data for the various years into a single\n",
        "# train dataframe\n",
        "combo_train = pd.concat([pretrain2017,pretrain2018,pretrain2019,pretrain2020,pretrain2021]).reset_index(drop=True)"
      ],
      "metadata": {
        "id": "WedXPK2qA4ZV"
      },
      "id": "WedXPK2qA4ZV",
      "execution_count": 137,
      "outputs": []
    },
    {
      "cell_type": "code",
      "source": [
        "# renaming the target column\n",
        "# NB: The target column is named 'aqi' and the aqi value of the previous year\n",
        "# is name 'aqi_y'\n",
        "combo_train = combo_train.rename(columns={'aqi_x':'aqi'})"
      ],
      "metadata": {
        "id": "7BSh-k9SA4c3"
      },
      "id": "7BSh-k9SA4c3",
      "execution_count": 138,
      "outputs": []
    },
    {
      "cell_type": "code",
      "source": [
        "# changing the 'aqi' column in the test data to reflect the name of the previous\n",
        "# year's aqi value is seen in the train data\n",
        "protest = protest.rename(columns={'aqi':'aqi_y'})"
      ],
      "metadata": {
        "id": "fCsBMmTrA4rW"
      },
      "id": "fCsBMmTrA4rW",
      "execution_count": 139,
      "outputs": []
    },
    {
      "cell_type": "code",
      "source": [
        "# how aqi values are distributed\n",
        "combo_train['aqi'].value_counts()"
      ],
      "metadata": {
        "colab": {
          "base_uri": "https://localhost:8080/"
        },
        "id": "1hpfsd2rBEFS",
        "outputId": "b4a00f61-f9e4-4ba3-d818-7a65a6582c77"
      },
      "id": "1hpfsd2rBEFS",
      "execution_count": 140,
      "outputs": [
        {
          "output_type": "execute_result",
          "data": {
            "text/plain": [
              "2    460\n",
              "4    380\n",
              "3      3\n",
              "1      3\n",
              "6      2\n",
              "Name: aqi, dtype: int64"
            ]
          },
          "metadata": {},
          "execution_count": 140
        }
      ]
    },
    {
      "cell_type": "code",
      "source": [
        "# selecting only numeric components of the processed train data\n",
        "combtrain_sel = combo_train.select_dtypes(include=[np.number])"
      ],
      "metadata": {
        "id": "8JL-221gBakW"
      },
      "id": "8JL-221gBakW",
      "execution_count": 141,
      "outputs": []
    },
    {
      "cell_type": "code",
      "source": [
        "# casting 'season' as string\n",
        "combtrain_sel['season'] = combtrain_sel['season'].astype('str')"
      ],
      "metadata": {
        "id": "IE6K7Ge9Bg7X"
      },
      "id": "IE6K7Ge9Bg7X",
      "execution_count": 142,
      "outputs": []
    },
    {
      "cell_type": "code",
      "source": [
        "# Getting the 'season' column of the processed test data to look just like\n",
        "# that of the train data\n",
        "protest['season'] = protest['season'].astype('float')\n",
        "protest['season'] = protest['season'].astype('str')"
      ],
      "metadata": {
        "id": "s5uabGSsBhCH"
      },
      "id": "s5uabGSsBhCH",
      "execution_count": 143,
      "outputs": []
    },
    {
      "cell_type": "code",
      "source": [
        "testseason_enc = pd.get_dummies(protest['season'],prefix='ssn')\n",
        "fi_test = pd.concat([protest,testseason_enc],axis=1)\n",
        "fi_test.drop('season',axis=1,inplace=True)"
      ],
      "metadata": {
        "id": "iPGcOxrzCSbt"
      },
      "id": "iPGcOxrzCSbt",
      "execution_count": 144,
      "outputs": []
    },
    {
      "cell_type": "code",
      "source": [
        "trainseason_enc = pd.get_dummies(combtrain_sel['season'],prefix='ssn')\n",
        "fi_train = pd.concat([combtrain_sel,trainseason_enc],axis=1)\n",
        "fi_train.drop('season',axis=1,inplace=True)"
      ],
      "metadata": {
        "id": "gXMSAmMuCSig"
      },
      "id": "gXMSAmMuCSig",
      "execution_count": 145,
      "outputs": []
    },
    {
      "cell_type": "code",
      "execution_count": 146,
      "id": "18e48d71",
      "metadata": {
        "scrolled": true,
        "id": "18e48d71"
      },
      "outputs": [],
      "source": [
        "# making a copy of the train data\n",
        "data = fi_train.copy()"
      ]
    },
    {
      "cell_type": "code",
      "execution_count": 147,
      "id": "5ff6d860",
      "metadata": {
        "colab": {
          "base_uri": "https://localhost:8080/"
        },
        "id": "5ff6d860",
        "outputId": "8fde0cb8-f7e0-4a37-a757-9e72bc9f5566"
      },
      "outputs": [
        {
          "output_type": "stream",
          "name": "stdout",
          "text": [
            "columns with missing values:0\n"
          ]
        }
      ],
      "source": [
        "#check for missing values\n",
        "datanul = data.isnull().sum()\n",
        "g=[i for i in datanul if i>0]\n",
        "\n",
        "print('columns with missing values:%d'%len(g))"
      ]
    },
    {
      "cell_type": "code",
      "execution_count": 147,
      "id": "dcdd52c2",
      "metadata": {
        "id": "dcdd52c2"
      },
      "outputs": [],
      "source": []
    },
    {
      "cell_type": "code",
      "execution_count": 148,
      "id": "03d4b489",
      "metadata": {
        "colab": {
          "base_uri": "https://localhost:8080/"
        },
        "id": "03d4b489",
        "outputId": "64d6b64c-1f67-420b-ee37-2d0563e9a26d"
      },
      "outputs": [
        {
          "output_type": "stream",
          "name": "stdout",
          "text": [
            "X\n",
            "   aqi_y  temperature  precipitation   humidity  global_radiation  \\\n",
            "0      4     10.45557       1.648352  78.513647        126.493361   \n",
            "\n",
            "   hydrometric_level        N        NE         E        SE  ...  lc_31  \\\n",
            "0          15.792456  2.36179  2.610759  2.443661  1.901245  ...    0.0   \n",
            "\n",
            "   lc_32  lc_33  lc_41  lc_51    year  ssn_1.0  ssn_2.0  ssn_3.0  ssn_4.0  \n",
            "0    0.0    0.0    0.0    0.0  2016.0        1        0        0        0  \n",
            "\n",
            "[1 rows x 62 columns]\n",
            "\n",
            "y\n",
            "0    4\n",
            "1    4\n",
            "2    4\n",
            "3    4\n",
            "4    4\n",
            "Name: aqi, dtype: int64\n"
          ]
        }
      ],
      "source": [
        "# 1. Separating data into features (X) and the target (y)\n",
        "X = data.drop(['aqi'], axis =1)\n",
        "y = data['aqi']\n",
        "\n",
        "print('X')\n",
        "print(X.head(1))\n",
        "print()\n",
        "print('y')\n",
        "print(y.head())"
      ]
    },
    {
      "cell_type": "code",
      "execution_count": 149,
      "id": "b251f08b",
      "metadata": {
        "id": "b251f08b"
      },
      "outputs": [],
      "source": [
        "#encoding target labels (y) with values between 0 and n_classes-1\n",
        "#using the LabelEncoder\n",
        "label_encoder=LabelEncoder()\n",
        "label_encoder.fit(y)\n",
        "y_encoded=label_encoder.transform(y)\n",
        "labels=label_encoder.classes_\n",
        "classes=np.unique(y_encoded)"
      ]
    },
    {
      "cell_type": "code",
      "execution_count": 150,
      "id": "4769ffe6",
      "metadata": {
        "colab": {
          "base_uri": "https://localhost:8080/"
        },
        "id": "4769ffe6",
        "outputId": "51678478-e237-438f-ecb2-c863d9326755"
      },
      "outputs": [
        {
          "output_type": "execute_result",
          "data": {
            "text/plain": [
              "array([1, 2, 3, 4, 6])"
            ]
          },
          "metadata": {},
          "execution_count": 150
        }
      ],
      "source": [
        "labels"
      ]
    },
    {
      "cell_type": "code",
      "execution_count": 151,
      "id": "8a567de8",
      "metadata": {
        "colab": {
          "base_uri": "https://localhost:8080/"
        },
        "id": "8a567de8",
        "outputId": "61cfde29-a892-42f8-a54d-41777c1054e8"
      },
      "outputs": [
        {
          "output_type": "execute_result",
          "data": {
            "text/plain": [
              "array([0, 1, 2, 3, 4])"
            ]
          },
          "metadata": {},
          "execution_count": 151
        }
      ],
      "source": [
        "classes"
      ]
    },
    {
      "cell_type": "code",
      "execution_count": 151,
      "id": "97640002",
      "metadata": {
        "id": "97640002"
      },
      "outputs": [],
      "source": []
    },
    {
      "cell_type": "code",
      "execution_count": 152,
      "id": "6fada994",
      "metadata": {
        "id": "6fada994"
      },
      "outputs": [],
      "source": [
        "#splitting train data into training and validation sets\n",
        "X_train,X_test,y_train,y_test=train_test_split(X,y_encoded,test_size=0.2,stratify=y_encoded,random_state = 42)"
      ]
    },
    {
      "cell_type": "code",
      "source": [
        "# setting a random seed  for reproducibility\n",
        "np.random.seed(5)"
      ],
      "metadata": {
        "id": "CRp9qmNUmeP2"
      },
      "id": "CRp9qmNUmeP2",
      "execution_count": 153,
      "outputs": []
    },
    {
      "cell_type": "code",
      "source": [
        "X_train.shape"
      ],
      "metadata": {
        "colab": {
          "base_uri": "https://localhost:8080/"
        },
        "id": "7fpYIXURbkq9",
        "outputId": "ec65b69c-f152-482a-f9a3-ae997778703f"
      },
      "id": "7fpYIXURbkq9",
      "execution_count": 154,
      "outputs": [
        {
          "output_type": "execute_result",
          "data": {
            "text/plain": [
              "(678, 62)"
            ]
          },
          "metadata": {},
          "execution_count": 154
        }
      ]
    },
    {
      "cell_type": "code",
      "source": [
        "X_train.columns"
      ],
      "metadata": {
        "colab": {
          "base_uri": "https://localhost:8080/"
        },
        "id": "quipVstVbF4S",
        "outputId": "bbf0d3ed-080d-4725-beb2-8a7c2085a528"
      },
      "id": "quipVstVbF4S",
      "execution_count": 155,
      "outputs": [
        {
          "output_type": "execute_result",
          "data": {
            "text/plain": [
              "Index(['aqi_y', 'temperature', 'precipitation', 'humidity', 'global_radiation',\n",
              "       'hydrometric_level', 'N', 'NE', 'E', 'SE', 'S', 'SW', 'W', 'NW', 'pm25',\n",
              "       'pm10', 'o3', 'so2', 'no2', 'pm25_aqi', 'pm10_aqi', 'no2_aqi', 'o3_aqi',\n",
              "       'so2_aqi', 'utm_x', 'utm_y', 'dtm_milan', 'aspect', 'dusaf15',\n",
              "       'geologia', 'hillshade', 'ndvi_2019', 'plan_curvature',\n",
              "       'profile_curvature', 'water_distance', 'slope', 'spi', 'tri', 'twi',\n",
              "       'geo_0', 'geo_1', 'geo_2', 'geo_3', 'geo_4', 'geo_5', 'geo_6', 'lc_11',\n",
              "       'lc_12', 'lc_14', 'lc_21', 'lc_22', 'lc_23', 'lc_31', 'lc_32', 'lc_33',\n",
              "       'lc_41', 'lc_51', 'year', 'ssn_1.0', 'ssn_2.0', 'ssn_3.0', 'ssn_4.0'],\n",
              "      dtype='object')"
            ]
          },
          "metadata": {},
          "execution_count": 155
        }
      ]
    },
    {
      "cell_type": "markdown",
      "id": "5153115e",
      "metadata": {
        "id": "5153115e"
      },
      "source": [
        "### Developing the Model"
      ]
    },
    {
      "cell_type": "code",
      "execution_count": 156,
      "id": "57959711",
      "metadata": {
        "id": "57959711"
      },
      "outputs": [],
      "source": [
        "# Defining function that will run the fitting of the model\n",
        "def runmodel(model,tuning_params,scorer=make_scorer(accuracy_score),n_iter=60):\n",
        "    sc=StandardScaler()\n",
        "    pipe=Pipeline(steps=[('sc',sc),('feature_selection',SelectKBest()),('classifier',model)])\n",
        "    r_search=RandomizedSearchCV(pipe,tuning_params,n_jobs=-1,verbose=-1,scoring=scorer,cv=10,n_iter=n_iter,random_state=2)\n",
        "    r_search.fit(X_train,y_train)\n",
        "    return r_search"
      ]
    },
    {
      "cell_type": "code",
      "execution_count": 156,
      "id": "fc67d623",
      "metadata": {
        "id": "fc67d623"
      },
      "outputs": [],
      "source": []
    },
    {
      "cell_type": "code",
      "execution_count": 157,
      "id": "ed429fc0",
      "metadata": {
        "id": "ed429fc0"
      },
      "outputs": [],
      "source": [
        "# creating an instance of a RandomForestClassifier to fit to the training data\n",
        "model=RandomForestClassifier(n_jobs=-1,random_state=20,verbose=1)\n",
        "\n",
        "# defining a parameter search space for hyperparameter tuning\n",
        "tuning_params= {\n",
        "    'classifier__n_estimators': randint(50, 501),  # Values between 50 and 500\n",
        "    'classifier__max_depth': [None] + list(randint(1, 51).rvs(10)),  # Include 'None' for no limit\n",
        "    'classifier__min_samples_split': randint(2, 21),  # Values between 2 and 20\n",
        "    'classifier__min_samples_leaf': randint(1, 11),  # Values between 1 and 10\n",
        "    'classifier__max_features': uniform(0.1, 0.9),  # Values between 0.1 and 1.0 for feature fraction\n",
        "    'classifier__bootstrap': [True, False],  # True or False for bootstrapping\n",
        "    'feature_selection__k': randint(1, X.shape[1]),  # Values between 800 and 1500\n",
        "}\n"
      ]
    },
    {
      "cell_type": "code",
      "execution_count": 158,
      "id": "8b82cda5",
      "metadata": {
        "colab": {
          "base_uri": "https://localhost:8080/"
        },
        "id": "8b82cda5",
        "outputId": "4dc43598-cadd-411d-a12a-04d80630b75d"
      },
      "outputs": [
        {
          "output_type": "stream",
          "name": "stderr",
          "text": [
            "/usr/local/lib/python3.10/dist-packages/sklearn/model_selection/_split.py:700: UserWarning: The least populated class in y has only 2 members, which is less than n_splits=10.\n",
            "  warnings.warn(\n",
            "/usr/local/lib/python3.10/dist-packages/sklearn/feature_selection/_univariate_selection.py:112: UserWarning: Features [23 42 44 45 51 53 54 55] are constant.\n",
            "  warnings.warn(\"Features %s are constant.\" % constant_features_idx, UserWarning)\n",
            "/usr/local/lib/python3.10/dist-packages/sklearn/feature_selection/_univariate_selection.py:113: RuntimeWarning: invalid value encountered in divide\n",
            "  f = msb / msw\n",
            "[Parallel(n_jobs=-1)]: Using backend ThreadingBackend with 2 concurrent workers.\n",
            "[Parallel(n_jobs=-1)]: Done  46 tasks      | elapsed:    0.1s\n",
            "[Parallel(n_jobs=-1)]: Done 196 tasks      | elapsed:    0.5s\n",
            "[Parallel(n_jobs=-1)]: Done 247 out of 247 | elapsed:    0.7s finished\n"
          ]
        }
      ],
      "source": [
        "# fitting the model to the data\n",
        "rf = runmodel(model,tuning_params,n_iter=30)"
      ]
    },
    {
      "cell_type": "code",
      "execution_count": 159,
      "id": "6bf39c04",
      "metadata": {
        "colab": {
          "base_uri": "https://localhost:8080/"
        },
        "id": "6bf39c04",
        "outputId": "6f467432-f8ca-4ff3-ac38-1c364d8a6ac7"
      },
      "outputs": [
        {
          "output_type": "execute_result",
          "data": {
            "text/plain": [
              "0.9852941176470589"
            ]
          },
          "metadata": {},
          "execution_count": 159
        }
      ],
      "source": [
        "# The best score during training\n",
        "rfac = rf.best_score_\n",
        "rfac"
      ]
    },
    {
      "cell_type": "code",
      "source": [
        "# score on the validation set\n",
        "rftest = accuracy_score(rf.predict(X_test),y_test)\n",
        "rftest"
      ],
      "metadata": {
        "colab": {
          "base_uri": "https://localhost:8080/"
        },
        "id": "vVp-yhahKJr-",
        "outputId": "9ed37152-2e0e-4e31-c5dc-66c138db250a"
      },
      "id": "vVp-yhahKJr-",
      "execution_count": 160,
      "outputs": [
        {
          "output_type": "stream",
          "name": "stderr",
          "text": [
            "[Parallel(n_jobs=2)]: Using backend ThreadingBackend with 2 concurrent workers.\n",
            "[Parallel(n_jobs=2)]: Done  46 tasks      | elapsed:    0.0s\n",
            "[Parallel(n_jobs=2)]: Done 196 tasks      | elapsed:    0.1s\n",
            "[Parallel(n_jobs=2)]: Done 247 out of 247 | elapsed:    0.1s finished\n"
          ]
        },
        {
          "output_type": "execute_result",
          "data": {
            "text/plain": [
              "0.9764705882352941"
            ]
          },
          "metadata": {},
          "execution_count": 160
        }
      ]
    },
    {
      "cell_type": "code",
      "source": [],
      "metadata": {
        "id": "kqhX5NHlVMto"
      },
      "id": "kqhX5NHlVMto",
      "execution_count": 160,
      "outputs": []
    },
    {
      "cell_type": "code",
      "source": [
        "# Predicting on the zindi test data\n",
        "values= rf.predict(fi_test[X.columns])"
      ],
      "metadata": {
        "id": "R6hsqIa8jaae",
        "colab": {
          "base_uri": "https://localhost:8080/"
        },
        "outputId": "4bc678d3-e9c7-438a-ad77-e29382b1c7d0"
      },
      "id": "R6hsqIa8jaae",
      "execution_count": 161,
      "outputs": [
        {
          "output_type": "stream",
          "name": "stderr",
          "text": [
            "[Parallel(n_jobs=2)]: Using backend ThreadingBackend with 2 concurrent workers.\n",
            "[Parallel(n_jobs=2)]: Done  46 tasks      | elapsed:    0.0s\n",
            "[Parallel(n_jobs=2)]: Done 196 tasks      | elapsed:    0.0s\n",
            "[Parallel(n_jobs=2)]: Done 247 out of 247 | elapsed:    0.0s finished\n"
          ]
        }
      ]
    },
    {
      "cell_type": "code",
      "source": [
        "fi_test"
      ],
      "metadata": {
        "colab": {
          "base_uri": "https://localhost:8080/",
          "height": 444
        },
        "id": "ekE-SAhDJYpA",
        "outputId": "22e25341-bb9b-4015-86c3-790476b626b1"
      },
      "id": "ekE-SAhDJYpA",
      "execution_count": 162,
      "outputs": [
        {
          "output_type": "execute_result",
          "data": {
            "text/plain": [
              "            ID        lat       lng              loc_id  aqi_y  temperature  \\\n",
              "0    ID_000000  45.171919  9.488997  45.171919,9.488997      4    10.247397   \n",
              "1    ID_000001  45.171919  9.488997  45.171919,9.488997      2    16.991453   \n",
              "2    ID_000002  45.171919  9.488997  45.171919,9.488997      2    19.848120   \n",
              "3    ID_000003  45.171919  9.488997  45.171919,9.488997      4    10.375539   \n",
              "4    ID_000004  45.281956  8.988563  45.281956,8.988563      4    10.057587   \n",
              "..         ...        ...       ...                 ...    ...          ...   \n",
              "155  ID_000155  45.607845  8.952897  45.607845,8.952897      4     9.524755   \n",
              "156  ID_000156  45.613692  9.508122  45.613692,9.508122      4    10.119018   \n",
              "157  ID_000157  45.613692  9.508122  45.613692,9.508122      2    16.786448   \n",
              "158  ID_000158  45.613692  9.508122  45.613692,9.508122      2    19.496790   \n",
              "159  ID_000159  45.613692  9.508122  45.613692,9.508122      4    10.269188   \n",
              "\n",
              "     precipitation   humidity  global_radiation  hydrometric_level  ...  \\\n",
              "0         1.675556  74.430607        142.907916          47.479411  ...   \n",
              "1         1.340659  71.873919        201.781224          44.150857  ...   \n",
              "2         1.178261  71.684712        198.580809          43.152518  ...   \n",
              "3         1.447826  85.141734        101.172679          43.410451  ...   \n",
              "4         2.256055  72.166248        137.564512          48.240221  ...   \n",
              "..             ...        ...               ...                ...  ...   \n",
              "155       1.944379  80.527489         97.752702          37.161603  ...   \n",
              "156       2.520000  68.692053        138.100012          46.767520  ...   \n",
              "157       2.536264  64.637347        198.780000          43.489804  ...   \n",
              "158       3.376087  67.136374        191.550968          42.488725  ...   \n",
              "159       1.924444  81.476675        102.954731          42.830768  ...   \n",
              "\n",
              "     lc_31  lc_32  lc_33  lc_41  lc_51    year  ssn_1.0  ssn_2.0  ssn_3.0  \\\n",
              "0      0.0    0.0    0.0    0.0    0.0  2021.0        1        0        0   \n",
              "1      0.0    0.0    0.0    0.0    0.0  2021.0        0        1        0   \n",
              "2      0.0    0.0    0.0    0.0    0.0  2021.0        0        0        1   \n",
              "3      0.0    0.0    0.0    0.0    0.0  2021.0        0        0        0   \n",
              "4      0.0    0.0    0.0    0.0    0.0  2021.0        1        0        0   \n",
              "..     ...    ...    ...    ...    ...     ...      ...      ...      ...   \n",
              "155    0.0    0.0    0.0    0.0    0.0  2021.0        0        0        0   \n",
              "156    0.0    0.0    0.0    0.0    0.0  2021.0        1        0        0   \n",
              "157    0.0    0.0    0.0    0.0    0.0  2021.0        0        1        0   \n",
              "158    0.0    0.0    0.0    0.0    0.0  2021.0        0        0        1   \n",
              "159    0.0    0.0    0.0    0.0    0.0  2021.0        0        0        0   \n",
              "\n",
              "     ssn_4.0  \n",
              "0          0  \n",
              "1          0  \n",
              "2          0  \n",
              "3          1  \n",
              "4          0  \n",
              "..       ...  \n",
              "155        1  \n",
              "156        0  \n",
              "157        0  \n",
              "158        0  \n",
              "159        1  \n",
              "\n",
              "[160 rows x 66 columns]"
            ],
            "text/html": [
              "\n",
              "  <div id=\"df-bc080425-d8a6-4862-b8d8-b1c888fd4b77\" class=\"colab-df-container\">\n",
              "    <div>\n",
              "<style scoped>\n",
              "    .dataframe tbody tr th:only-of-type {\n",
              "        vertical-align: middle;\n",
              "    }\n",
              "\n",
              "    .dataframe tbody tr th {\n",
              "        vertical-align: top;\n",
              "    }\n",
              "\n",
              "    .dataframe thead th {\n",
              "        text-align: right;\n",
              "    }\n",
              "</style>\n",
              "<table border=\"1\" class=\"dataframe\">\n",
              "  <thead>\n",
              "    <tr style=\"text-align: right;\">\n",
              "      <th></th>\n",
              "      <th>ID</th>\n",
              "      <th>lat</th>\n",
              "      <th>lng</th>\n",
              "      <th>loc_id</th>\n",
              "      <th>aqi_y</th>\n",
              "      <th>temperature</th>\n",
              "      <th>precipitation</th>\n",
              "      <th>humidity</th>\n",
              "      <th>global_radiation</th>\n",
              "      <th>hydrometric_level</th>\n",
              "      <th>...</th>\n",
              "      <th>lc_31</th>\n",
              "      <th>lc_32</th>\n",
              "      <th>lc_33</th>\n",
              "      <th>lc_41</th>\n",
              "      <th>lc_51</th>\n",
              "      <th>year</th>\n",
              "      <th>ssn_1.0</th>\n",
              "      <th>ssn_2.0</th>\n",
              "      <th>ssn_3.0</th>\n",
              "      <th>ssn_4.0</th>\n",
              "    </tr>\n",
              "  </thead>\n",
              "  <tbody>\n",
              "    <tr>\n",
              "      <th>0</th>\n",
              "      <td>ID_000000</td>\n",
              "      <td>45.171919</td>\n",
              "      <td>9.488997</td>\n",
              "      <td>45.171919,9.488997</td>\n",
              "      <td>4</td>\n",
              "      <td>10.247397</td>\n",
              "      <td>1.675556</td>\n",
              "      <td>74.430607</td>\n",
              "      <td>142.907916</td>\n",
              "      <td>47.479411</td>\n",
              "      <td>...</td>\n",
              "      <td>0.0</td>\n",
              "      <td>0.0</td>\n",
              "      <td>0.0</td>\n",
              "      <td>0.0</td>\n",
              "      <td>0.0</td>\n",
              "      <td>2021.0</td>\n",
              "      <td>1</td>\n",
              "      <td>0</td>\n",
              "      <td>0</td>\n",
              "      <td>0</td>\n",
              "    </tr>\n",
              "    <tr>\n",
              "      <th>1</th>\n",
              "      <td>ID_000001</td>\n",
              "      <td>45.171919</td>\n",
              "      <td>9.488997</td>\n",
              "      <td>45.171919,9.488997</td>\n",
              "      <td>2</td>\n",
              "      <td>16.991453</td>\n",
              "      <td>1.340659</td>\n",
              "      <td>71.873919</td>\n",
              "      <td>201.781224</td>\n",
              "      <td>44.150857</td>\n",
              "      <td>...</td>\n",
              "      <td>0.0</td>\n",
              "      <td>0.0</td>\n",
              "      <td>0.0</td>\n",
              "      <td>0.0</td>\n",
              "      <td>0.0</td>\n",
              "      <td>2021.0</td>\n",
              "      <td>0</td>\n",
              "      <td>1</td>\n",
              "      <td>0</td>\n",
              "      <td>0</td>\n",
              "    </tr>\n",
              "    <tr>\n",
              "      <th>2</th>\n",
              "      <td>ID_000002</td>\n",
              "      <td>45.171919</td>\n",
              "      <td>9.488997</td>\n",
              "      <td>45.171919,9.488997</td>\n",
              "      <td>2</td>\n",
              "      <td>19.848120</td>\n",
              "      <td>1.178261</td>\n",
              "      <td>71.684712</td>\n",
              "      <td>198.580809</td>\n",
              "      <td>43.152518</td>\n",
              "      <td>...</td>\n",
              "      <td>0.0</td>\n",
              "      <td>0.0</td>\n",
              "      <td>0.0</td>\n",
              "      <td>0.0</td>\n",
              "      <td>0.0</td>\n",
              "      <td>2021.0</td>\n",
              "      <td>0</td>\n",
              "      <td>0</td>\n",
              "      <td>1</td>\n",
              "      <td>0</td>\n",
              "    </tr>\n",
              "    <tr>\n",
              "      <th>3</th>\n",
              "      <td>ID_000003</td>\n",
              "      <td>45.171919</td>\n",
              "      <td>9.488997</td>\n",
              "      <td>45.171919,9.488997</td>\n",
              "      <td>4</td>\n",
              "      <td>10.375539</td>\n",
              "      <td>1.447826</td>\n",
              "      <td>85.141734</td>\n",
              "      <td>101.172679</td>\n",
              "      <td>43.410451</td>\n",
              "      <td>...</td>\n",
              "      <td>0.0</td>\n",
              "      <td>0.0</td>\n",
              "      <td>0.0</td>\n",
              "      <td>0.0</td>\n",
              "      <td>0.0</td>\n",
              "      <td>2021.0</td>\n",
              "      <td>0</td>\n",
              "      <td>0</td>\n",
              "      <td>0</td>\n",
              "      <td>1</td>\n",
              "    </tr>\n",
              "    <tr>\n",
              "      <th>4</th>\n",
              "      <td>ID_000004</td>\n",
              "      <td>45.281956</td>\n",
              "      <td>8.988563</td>\n",
              "      <td>45.281956,8.988563</td>\n",
              "      <td>4</td>\n",
              "      <td>10.057587</td>\n",
              "      <td>2.256055</td>\n",
              "      <td>72.166248</td>\n",
              "      <td>137.564512</td>\n",
              "      <td>48.240221</td>\n",
              "      <td>...</td>\n",
              "      <td>0.0</td>\n",
              "      <td>0.0</td>\n",
              "      <td>0.0</td>\n",
              "      <td>0.0</td>\n",
              "      <td>0.0</td>\n",
              "      <td>2021.0</td>\n",
              "      <td>1</td>\n",
              "      <td>0</td>\n",
              "      <td>0</td>\n",
              "      <td>0</td>\n",
              "    </tr>\n",
              "    <tr>\n",
              "      <th>...</th>\n",
              "      <td>...</td>\n",
              "      <td>...</td>\n",
              "      <td>...</td>\n",
              "      <td>...</td>\n",
              "      <td>...</td>\n",
              "      <td>...</td>\n",
              "      <td>...</td>\n",
              "      <td>...</td>\n",
              "      <td>...</td>\n",
              "      <td>...</td>\n",
              "      <td>...</td>\n",
              "      <td>...</td>\n",
              "      <td>...</td>\n",
              "      <td>...</td>\n",
              "      <td>...</td>\n",
              "      <td>...</td>\n",
              "      <td>...</td>\n",
              "      <td>...</td>\n",
              "      <td>...</td>\n",
              "      <td>...</td>\n",
              "      <td>...</td>\n",
              "    </tr>\n",
              "    <tr>\n",
              "      <th>155</th>\n",
              "      <td>ID_000155</td>\n",
              "      <td>45.607845</td>\n",
              "      <td>8.952897</td>\n",
              "      <td>45.607845,8.952897</td>\n",
              "      <td>4</td>\n",
              "      <td>9.524755</td>\n",
              "      <td>1.944379</td>\n",
              "      <td>80.527489</td>\n",
              "      <td>97.752702</td>\n",
              "      <td>37.161603</td>\n",
              "      <td>...</td>\n",
              "      <td>0.0</td>\n",
              "      <td>0.0</td>\n",
              "      <td>0.0</td>\n",
              "      <td>0.0</td>\n",
              "      <td>0.0</td>\n",
              "      <td>2021.0</td>\n",
              "      <td>0</td>\n",
              "      <td>0</td>\n",
              "      <td>0</td>\n",
              "      <td>1</td>\n",
              "    </tr>\n",
              "    <tr>\n",
              "      <th>156</th>\n",
              "      <td>ID_000156</td>\n",
              "      <td>45.613692</td>\n",
              "      <td>9.508122</td>\n",
              "      <td>45.613692,9.508122</td>\n",
              "      <td>4</td>\n",
              "      <td>10.119018</td>\n",
              "      <td>2.520000</td>\n",
              "      <td>68.692053</td>\n",
              "      <td>138.100012</td>\n",
              "      <td>46.767520</td>\n",
              "      <td>...</td>\n",
              "      <td>0.0</td>\n",
              "      <td>0.0</td>\n",
              "      <td>0.0</td>\n",
              "      <td>0.0</td>\n",
              "      <td>0.0</td>\n",
              "      <td>2021.0</td>\n",
              "      <td>1</td>\n",
              "      <td>0</td>\n",
              "      <td>0</td>\n",
              "      <td>0</td>\n",
              "    </tr>\n",
              "    <tr>\n",
              "      <th>157</th>\n",
              "      <td>ID_000157</td>\n",
              "      <td>45.613692</td>\n",
              "      <td>9.508122</td>\n",
              "      <td>45.613692,9.508122</td>\n",
              "      <td>2</td>\n",
              "      <td>16.786448</td>\n",
              "      <td>2.536264</td>\n",
              "      <td>64.637347</td>\n",
              "      <td>198.780000</td>\n",
              "      <td>43.489804</td>\n",
              "      <td>...</td>\n",
              "      <td>0.0</td>\n",
              "      <td>0.0</td>\n",
              "      <td>0.0</td>\n",
              "      <td>0.0</td>\n",
              "      <td>0.0</td>\n",
              "      <td>2021.0</td>\n",
              "      <td>0</td>\n",
              "      <td>1</td>\n",
              "      <td>0</td>\n",
              "      <td>0</td>\n",
              "    </tr>\n",
              "    <tr>\n",
              "      <th>158</th>\n",
              "      <td>ID_000158</td>\n",
              "      <td>45.613692</td>\n",
              "      <td>9.508122</td>\n",
              "      <td>45.613692,9.508122</td>\n",
              "      <td>2</td>\n",
              "      <td>19.496790</td>\n",
              "      <td>3.376087</td>\n",
              "      <td>67.136374</td>\n",
              "      <td>191.550968</td>\n",
              "      <td>42.488725</td>\n",
              "      <td>...</td>\n",
              "      <td>0.0</td>\n",
              "      <td>0.0</td>\n",
              "      <td>0.0</td>\n",
              "      <td>0.0</td>\n",
              "      <td>0.0</td>\n",
              "      <td>2021.0</td>\n",
              "      <td>0</td>\n",
              "      <td>0</td>\n",
              "      <td>1</td>\n",
              "      <td>0</td>\n",
              "    </tr>\n",
              "    <tr>\n",
              "      <th>159</th>\n",
              "      <td>ID_000159</td>\n",
              "      <td>45.613692</td>\n",
              "      <td>9.508122</td>\n",
              "      <td>45.613692,9.508122</td>\n",
              "      <td>4</td>\n",
              "      <td>10.269188</td>\n",
              "      <td>1.924444</td>\n",
              "      <td>81.476675</td>\n",
              "      <td>102.954731</td>\n",
              "      <td>42.830768</td>\n",
              "      <td>...</td>\n",
              "      <td>0.0</td>\n",
              "      <td>0.0</td>\n",
              "      <td>0.0</td>\n",
              "      <td>0.0</td>\n",
              "      <td>0.0</td>\n",
              "      <td>2021.0</td>\n",
              "      <td>0</td>\n",
              "      <td>0</td>\n",
              "      <td>0</td>\n",
              "      <td>1</td>\n",
              "    </tr>\n",
              "  </tbody>\n",
              "</table>\n",
              "<p>160 rows × 66 columns</p>\n",
              "</div>\n",
              "    <div class=\"colab-df-buttons\">\n",
              "\n",
              "  <div class=\"colab-df-container\">\n",
              "    <button class=\"colab-df-convert\" onclick=\"convertToInteractive('df-bc080425-d8a6-4862-b8d8-b1c888fd4b77')\"\n",
              "            title=\"Convert this dataframe to an interactive table.\"\n",
              "            style=\"display:none;\">\n",
              "\n",
              "  <svg xmlns=\"http://www.w3.org/2000/svg\" height=\"24px\" viewBox=\"0 -960 960 960\">\n",
              "    <path d=\"M120-120v-720h720v720H120Zm60-500h600v-160H180v160Zm220 220h160v-160H400v160Zm0 220h160v-160H400v160ZM180-400h160v-160H180v160Zm440 0h160v-160H620v160ZM180-180h160v-160H180v160Zm440 0h160v-160H620v160Z\"/>\n",
              "  </svg>\n",
              "    </button>\n",
              "\n",
              "  <style>\n",
              "    .colab-df-container {\n",
              "      display:flex;\n",
              "      gap: 12px;\n",
              "    }\n",
              "\n",
              "    .colab-df-convert {\n",
              "      background-color: #E8F0FE;\n",
              "      border: none;\n",
              "      border-radius: 50%;\n",
              "      cursor: pointer;\n",
              "      display: none;\n",
              "      fill: #1967D2;\n",
              "      height: 32px;\n",
              "      padding: 0 0 0 0;\n",
              "      width: 32px;\n",
              "    }\n",
              "\n",
              "    .colab-df-convert:hover {\n",
              "      background-color: #E2EBFA;\n",
              "      box-shadow: 0px 1px 2px rgba(60, 64, 67, 0.3), 0px 1px 3px 1px rgba(60, 64, 67, 0.15);\n",
              "      fill: #174EA6;\n",
              "    }\n",
              "\n",
              "    .colab-df-buttons div {\n",
              "      margin-bottom: 4px;\n",
              "    }\n",
              "\n",
              "    [theme=dark] .colab-df-convert {\n",
              "      background-color: #3B4455;\n",
              "      fill: #D2E3FC;\n",
              "    }\n",
              "\n",
              "    [theme=dark] .colab-df-convert:hover {\n",
              "      background-color: #434B5C;\n",
              "      box-shadow: 0px 1px 3px 1px rgba(0, 0, 0, 0.15);\n",
              "      filter: drop-shadow(0px 1px 2px rgba(0, 0, 0, 0.3));\n",
              "      fill: #FFFFFF;\n",
              "    }\n",
              "  </style>\n",
              "\n",
              "    <script>\n",
              "      const buttonEl =\n",
              "        document.querySelector('#df-bc080425-d8a6-4862-b8d8-b1c888fd4b77 button.colab-df-convert');\n",
              "      buttonEl.style.display =\n",
              "        google.colab.kernel.accessAllowed ? 'block' : 'none';\n",
              "\n",
              "      async function convertToInteractive(key) {\n",
              "        const element = document.querySelector('#df-bc080425-d8a6-4862-b8d8-b1c888fd4b77');\n",
              "        const dataTable =\n",
              "          await google.colab.kernel.invokeFunction('convertToInteractive',\n",
              "                                                    [key], {});\n",
              "        if (!dataTable) return;\n",
              "\n",
              "        const docLinkHtml = 'Like what you see? Visit the ' +\n",
              "          '<a target=\"_blank\" href=https://colab.research.google.com/notebooks/data_table.ipynb>data table notebook</a>'\n",
              "          + ' to learn more about interactive tables.';\n",
              "        element.innerHTML = '';\n",
              "        dataTable['output_type'] = 'display_data';\n",
              "        await google.colab.output.renderOutput(dataTable, element);\n",
              "        const docLink = document.createElement('div');\n",
              "        docLink.innerHTML = docLinkHtml;\n",
              "        element.appendChild(docLink);\n",
              "      }\n",
              "    </script>\n",
              "  </div>\n",
              "\n",
              "\n",
              "<div id=\"df-1c5b325a-efa4-47a3-af55-1f4f230ff16a\">\n",
              "  <button class=\"colab-df-quickchart\" onclick=\"quickchart('df-1c5b325a-efa4-47a3-af55-1f4f230ff16a')\"\n",
              "            title=\"Suggest charts.\"\n",
              "            style=\"display:none;\">\n",
              "\n",
              "<svg xmlns=\"http://www.w3.org/2000/svg\" height=\"24px\"viewBox=\"0 0 24 24\"\n",
              "     width=\"24px\">\n",
              "    <g>\n",
              "        <path d=\"M19 3H5c-1.1 0-2 .9-2 2v14c0 1.1.9 2 2 2h14c1.1 0 2-.9 2-2V5c0-1.1-.9-2-2-2zM9 17H7v-7h2v7zm4 0h-2V7h2v10zm4 0h-2v-4h2v4z\"/>\n",
              "    </g>\n",
              "</svg>\n",
              "  </button>\n",
              "\n",
              "<style>\n",
              "  .colab-df-quickchart {\n",
              "      --bg-color: #E8F0FE;\n",
              "      --fill-color: #1967D2;\n",
              "      --hover-bg-color: #E2EBFA;\n",
              "      --hover-fill-color: #174EA6;\n",
              "      --disabled-fill-color: #AAA;\n",
              "      --disabled-bg-color: #DDD;\n",
              "  }\n",
              "\n",
              "  [theme=dark] .colab-df-quickchart {\n",
              "      --bg-color: #3B4455;\n",
              "      --fill-color: #D2E3FC;\n",
              "      --hover-bg-color: #434B5C;\n",
              "      --hover-fill-color: #FFFFFF;\n",
              "      --disabled-bg-color: #3B4455;\n",
              "      --disabled-fill-color: #666;\n",
              "  }\n",
              "\n",
              "  .colab-df-quickchart {\n",
              "    background-color: var(--bg-color);\n",
              "    border: none;\n",
              "    border-radius: 50%;\n",
              "    cursor: pointer;\n",
              "    display: none;\n",
              "    fill: var(--fill-color);\n",
              "    height: 32px;\n",
              "    padding: 0;\n",
              "    width: 32px;\n",
              "  }\n",
              "\n",
              "  .colab-df-quickchart:hover {\n",
              "    background-color: var(--hover-bg-color);\n",
              "    box-shadow: 0 1px 2px rgba(60, 64, 67, 0.3), 0 1px 3px 1px rgba(60, 64, 67, 0.15);\n",
              "    fill: var(--button-hover-fill-color);\n",
              "  }\n",
              "\n",
              "  .colab-df-quickchart-complete:disabled,\n",
              "  .colab-df-quickchart-complete:disabled:hover {\n",
              "    background-color: var(--disabled-bg-color);\n",
              "    fill: var(--disabled-fill-color);\n",
              "    box-shadow: none;\n",
              "  }\n",
              "\n",
              "  .colab-df-spinner {\n",
              "    border: 2px solid var(--fill-color);\n",
              "    border-color: transparent;\n",
              "    border-bottom-color: var(--fill-color);\n",
              "    animation:\n",
              "      spin 1s steps(1) infinite;\n",
              "  }\n",
              "\n",
              "  @keyframes spin {\n",
              "    0% {\n",
              "      border-color: transparent;\n",
              "      border-bottom-color: var(--fill-color);\n",
              "      border-left-color: var(--fill-color);\n",
              "    }\n",
              "    20% {\n",
              "      border-color: transparent;\n",
              "      border-left-color: var(--fill-color);\n",
              "      border-top-color: var(--fill-color);\n",
              "    }\n",
              "    30% {\n",
              "      border-color: transparent;\n",
              "      border-left-color: var(--fill-color);\n",
              "      border-top-color: var(--fill-color);\n",
              "      border-right-color: var(--fill-color);\n",
              "    }\n",
              "    40% {\n",
              "      border-color: transparent;\n",
              "      border-right-color: var(--fill-color);\n",
              "      border-top-color: var(--fill-color);\n",
              "    }\n",
              "    60% {\n",
              "      border-color: transparent;\n",
              "      border-right-color: var(--fill-color);\n",
              "    }\n",
              "    80% {\n",
              "      border-color: transparent;\n",
              "      border-right-color: var(--fill-color);\n",
              "      border-bottom-color: var(--fill-color);\n",
              "    }\n",
              "    90% {\n",
              "      border-color: transparent;\n",
              "      border-bottom-color: var(--fill-color);\n",
              "    }\n",
              "  }\n",
              "</style>\n",
              "\n",
              "  <script>\n",
              "    async function quickchart(key) {\n",
              "      const quickchartButtonEl =\n",
              "        document.querySelector('#' + key + ' button');\n",
              "      quickchartButtonEl.disabled = true;  // To prevent multiple clicks.\n",
              "      quickchartButtonEl.classList.add('colab-df-spinner');\n",
              "      try {\n",
              "        const charts = await google.colab.kernel.invokeFunction(\n",
              "            'suggestCharts', [key], {});\n",
              "      } catch (error) {\n",
              "        console.error('Error during call to suggestCharts:', error);\n",
              "      }\n",
              "      quickchartButtonEl.classList.remove('colab-df-spinner');\n",
              "      quickchartButtonEl.classList.add('colab-df-quickchart-complete');\n",
              "    }\n",
              "    (() => {\n",
              "      let quickchartButtonEl =\n",
              "        document.querySelector('#df-1c5b325a-efa4-47a3-af55-1f4f230ff16a button');\n",
              "      quickchartButtonEl.style.display =\n",
              "        google.colab.kernel.accessAllowed ? 'block' : 'none';\n",
              "    })();\n",
              "  </script>\n",
              "</div>\n",
              "    </div>\n",
              "  </div>\n"
            ]
          },
          "metadata": {},
          "execution_count": 162
        }
      ]
    },
    {
      "cell_type": "code",
      "source": [
        "# converting the predicted values to the exact aqi values using the label\n",
        "# encoder object\n",
        "conv_values = label_encoder.inverse_transform(values)"
      ],
      "metadata": {
        "id": "WQxwkvq3kBVb"
      },
      "id": "WQxwkvq3kBVb",
      "execution_count": 163,
      "outputs": []
    },
    {
      "cell_type": "code",
      "source": [
        "# presenting predicted values as a dataframe similar to the sample submission\n",
        "sub['aqi'] = conv_values\n",
        "sub"
      ],
      "metadata": {
        "id": "aKwOo5-njg8y",
        "outputId": "ddf1c9d7-c7e3-4c5e-b338-1c5895e70569",
        "colab": {
          "base_uri": "https://localhost:8080/",
          "height": 424
        }
      },
      "id": "aKwOo5-njg8y",
      "execution_count": 164,
      "outputs": [
        {
          "output_type": "execute_result",
          "data": {
            "text/plain": [
              "            ID  aqi\n",
              "0    ID_000000    4\n",
              "1    ID_000001    2\n",
              "2    ID_000002    2\n",
              "3    ID_000003    4\n",
              "4    ID_000004    4\n",
              "..         ...  ...\n",
              "155  ID_000155    4\n",
              "156  ID_000156    4\n",
              "157  ID_000157    2\n",
              "158  ID_000158    2\n",
              "159  ID_000159    4\n",
              "\n",
              "[160 rows x 2 columns]"
            ],
            "text/html": [
              "\n",
              "  <div id=\"df-c950cba7-91b3-4ecf-a23f-dfb95c7c4d1e\" class=\"colab-df-container\">\n",
              "    <div>\n",
              "<style scoped>\n",
              "    .dataframe tbody tr th:only-of-type {\n",
              "        vertical-align: middle;\n",
              "    }\n",
              "\n",
              "    .dataframe tbody tr th {\n",
              "        vertical-align: top;\n",
              "    }\n",
              "\n",
              "    .dataframe thead th {\n",
              "        text-align: right;\n",
              "    }\n",
              "</style>\n",
              "<table border=\"1\" class=\"dataframe\">\n",
              "  <thead>\n",
              "    <tr style=\"text-align: right;\">\n",
              "      <th></th>\n",
              "      <th>ID</th>\n",
              "      <th>aqi</th>\n",
              "    </tr>\n",
              "  </thead>\n",
              "  <tbody>\n",
              "    <tr>\n",
              "      <th>0</th>\n",
              "      <td>ID_000000</td>\n",
              "      <td>4</td>\n",
              "    </tr>\n",
              "    <tr>\n",
              "      <th>1</th>\n",
              "      <td>ID_000001</td>\n",
              "      <td>2</td>\n",
              "    </tr>\n",
              "    <tr>\n",
              "      <th>2</th>\n",
              "      <td>ID_000002</td>\n",
              "      <td>2</td>\n",
              "    </tr>\n",
              "    <tr>\n",
              "      <th>3</th>\n",
              "      <td>ID_000003</td>\n",
              "      <td>4</td>\n",
              "    </tr>\n",
              "    <tr>\n",
              "      <th>4</th>\n",
              "      <td>ID_000004</td>\n",
              "      <td>4</td>\n",
              "    </tr>\n",
              "    <tr>\n",
              "      <th>...</th>\n",
              "      <td>...</td>\n",
              "      <td>...</td>\n",
              "    </tr>\n",
              "    <tr>\n",
              "      <th>155</th>\n",
              "      <td>ID_000155</td>\n",
              "      <td>4</td>\n",
              "    </tr>\n",
              "    <tr>\n",
              "      <th>156</th>\n",
              "      <td>ID_000156</td>\n",
              "      <td>4</td>\n",
              "    </tr>\n",
              "    <tr>\n",
              "      <th>157</th>\n",
              "      <td>ID_000157</td>\n",
              "      <td>2</td>\n",
              "    </tr>\n",
              "    <tr>\n",
              "      <th>158</th>\n",
              "      <td>ID_000158</td>\n",
              "      <td>2</td>\n",
              "    </tr>\n",
              "    <tr>\n",
              "      <th>159</th>\n",
              "      <td>ID_000159</td>\n",
              "      <td>4</td>\n",
              "    </tr>\n",
              "  </tbody>\n",
              "</table>\n",
              "<p>160 rows × 2 columns</p>\n",
              "</div>\n",
              "    <div class=\"colab-df-buttons\">\n",
              "\n",
              "  <div class=\"colab-df-container\">\n",
              "    <button class=\"colab-df-convert\" onclick=\"convertToInteractive('df-c950cba7-91b3-4ecf-a23f-dfb95c7c4d1e')\"\n",
              "            title=\"Convert this dataframe to an interactive table.\"\n",
              "            style=\"display:none;\">\n",
              "\n",
              "  <svg xmlns=\"http://www.w3.org/2000/svg\" height=\"24px\" viewBox=\"0 -960 960 960\">\n",
              "    <path d=\"M120-120v-720h720v720H120Zm60-500h600v-160H180v160Zm220 220h160v-160H400v160Zm0 220h160v-160H400v160ZM180-400h160v-160H180v160Zm440 0h160v-160H620v160ZM180-180h160v-160H180v160Zm440 0h160v-160H620v160Z\"/>\n",
              "  </svg>\n",
              "    </button>\n",
              "\n",
              "  <style>\n",
              "    .colab-df-container {\n",
              "      display:flex;\n",
              "      gap: 12px;\n",
              "    }\n",
              "\n",
              "    .colab-df-convert {\n",
              "      background-color: #E8F0FE;\n",
              "      border: none;\n",
              "      border-radius: 50%;\n",
              "      cursor: pointer;\n",
              "      display: none;\n",
              "      fill: #1967D2;\n",
              "      height: 32px;\n",
              "      padding: 0 0 0 0;\n",
              "      width: 32px;\n",
              "    }\n",
              "\n",
              "    .colab-df-convert:hover {\n",
              "      background-color: #E2EBFA;\n",
              "      box-shadow: 0px 1px 2px rgba(60, 64, 67, 0.3), 0px 1px 3px 1px rgba(60, 64, 67, 0.15);\n",
              "      fill: #174EA6;\n",
              "    }\n",
              "\n",
              "    .colab-df-buttons div {\n",
              "      margin-bottom: 4px;\n",
              "    }\n",
              "\n",
              "    [theme=dark] .colab-df-convert {\n",
              "      background-color: #3B4455;\n",
              "      fill: #D2E3FC;\n",
              "    }\n",
              "\n",
              "    [theme=dark] .colab-df-convert:hover {\n",
              "      background-color: #434B5C;\n",
              "      box-shadow: 0px 1px 3px 1px rgba(0, 0, 0, 0.15);\n",
              "      filter: drop-shadow(0px 1px 2px rgba(0, 0, 0, 0.3));\n",
              "      fill: #FFFFFF;\n",
              "    }\n",
              "  </style>\n",
              "\n",
              "    <script>\n",
              "      const buttonEl =\n",
              "        document.querySelector('#df-c950cba7-91b3-4ecf-a23f-dfb95c7c4d1e button.colab-df-convert');\n",
              "      buttonEl.style.display =\n",
              "        google.colab.kernel.accessAllowed ? 'block' : 'none';\n",
              "\n",
              "      async function convertToInteractive(key) {\n",
              "        const element = document.querySelector('#df-c950cba7-91b3-4ecf-a23f-dfb95c7c4d1e');\n",
              "        const dataTable =\n",
              "          await google.colab.kernel.invokeFunction('convertToInteractive',\n",
              "                                                    [key], {});\n",
              "        if (!dataTable) return;\n",
              "\n",
              "        const docLinkHtml = 'Like what you see? Visit the ' +\n",
              "          '<a target=\"_blank\" href=https://colab.research.google.com/notebooks/data_table.ipynb>data table notebook</a>'\n",
              "          + ' to learn more about interactive tables.';\n",
              "        element.innerHTML = '';\n",
              "        dataTable['output_type'] = 'display_data';\n",
              "        await google.colab.output.renderOutput(dataTable, element);\n",
              "        const docLink = document.createElement('div');\n",
              "        docLink.innerHTML = docLinkHtml;\n",
              "        element.appendChild(docLink);\n",
              "      }\n",
              "    </script>\n",
              "  </div>\n",
              "\n",
              "\n",
              "<div id=\"df-75710239-7451-43e7-ace4-c718713cbc40\">\n",
              "  <button class=\"colab-df-quickchart\" onclick=\"quickchart('df-75710239-7451-43e7-ace4-c718713cbc40')\"\n",
              "            title=\"Suggest charts.\"\n",
              "            style=\"display:none;\">\n",
              "\n",
              "<svg xmlns=\"http://www.w3.org/2000/svg\" height=\"24px\"viewBox=\"0 0 24 24\"\n",
              "     width=\"24px\">\n",
              "    <g>\n",
              "        <path d=\"M19 3H5c-1.1 0-2 .9-2 2v14c0 1.1.9 2 2 2h14c1.1 0 2-.9 2-2V5c0-1.1-.9-2-2-2zM9 17H7v-7h2v7zm4 0h-2V7h2v10zm4 0h-2v-4h2v4z\"/>\n",
              "    </g>\n",
              "</svg>\n",
              "  </button>\n",
              "\n",
              "<style>\n",
              "  .colab-df-quickchart {\n",
              "      --bg-color: #E8F0FE;\n",
              "      --fill-color: #1967D2;\n",
              "      --hover-bg-color: #E2EBFA;\n",
              "      --hover-fill-color: #174EA6;\n",
              "      --disabled-fill-color: #AAA;\n",
              "      --disabled-bg-color: #DDD;\n",
              "  }\n",
              "\n",
              "  [theme=dark] .colab-df-quickchart {\n",
              "      --bg-color: #3B4455;\n",
              "      --fill-color: #D2E3FC;\n",
              "      --hover-bg-color: #434B5C;\n",
              "      --hover-fill-color: #FFFFFF;\n",
              "      --disabled-bg-color: #3B4455;\n",
              "      --disabled-fill-color: #666;\n",
              "  }\n",
              "\n",
              "  .colab-df-quickchart {\n",
              "    background-color: var(--bg-color);\n",
              "    border: none;\n",
              "    border-radius: 50%;\n",
              "    cursor: pointer;\n",
              "    display: none;\n",
              "    fill: var(--fill-color);\n",
              "    height: 32px;\n",
              "    padding: 0;\n",
              "    width: 32px;\n",
              "  }\n",
              "\n",
              "  .colab-df-quickchart:hover {\n",
              "    background-color: var(--hover-bg-color);\n",
              "    box-shadow: 0 1px 2px rgba(60, 64, 67, 0.3), 0 1px 3px 1px rgba(60, 64, 67, 0.15);\n",
              "    fill: var(--button-hover-fill-color);\n",
              "  }\n",
              "\n",
              "  .colab-df-quickchart-complete:disabled,\n",
              "  .colab-df-quickchart-complete:disabled:hover {\n",
              "    background-color: var(--disabled-bg-color);\n",
              "    fill: var(--disabled-fill-color);\n",
              "    box-shadow: none;\n",
              "  }\n",
              "\n",
              "  .colab-df-spinner {\n",
              "    border: 2px solid var(--fill-color);\n",
              "    border-color: transparent;\n",
              "    border-bottom-color: var(--fill-color);\n",
              "    animation:\n",
              "      spin 1s steps(1) infinite;\n",
              "  }\n",
              "\n",
              "  @keyframes spin {\n",
              "    0% {\n",
              "      border-color: transparent;\n",
              "      border-bottom-color: var(--fill-color);\n",
              "      border-left-color: var(--fill-color);\n",
              "    }\n",
              "    20% {\n",
              "      border-color: transparent;\n",
              "      border-left-color: var(--fill-color);\n",
              "      border-top-color: var(--fill-color);\n",
              "    }\n",
              "    30% {\n",
              "      border-color: transparent;\n",
              "      border-left-color: var(--fill-color);\n",
              "      border-top-color: var(--fill-color);\n",
              "      border-right-color: var(--fill-color);\n",
              "    }\n",
              "    40% {\n",
              "      border-color: transparent;\n",
              "      border-right-color: var(--fill-color);\n",
              "      border-top-color: var(--fill-color);\n",
              "    }\n",
              "    60% {\n",
              "      border-color: transparent;\n",
              "      border-right-color: var(--fill-color);\n",
              "    }\n",
              "    80% {\n",
              "      border-color: transparent;\n",
              "      border-right-color: var(--fill-color);\n",
              "      border-bottom-color: var(--fill-color);\n",
              "    }\n",
              "    90% {\n",
              "      border-color: transparent;\n",
              "      border-bottom-color: var(--fill-color);\n",
              "    }\n",
              "  }\n",
              "</style>\n",
              "\n",
              "  <script>\n",
              "    async function quickchart(key) {\n",
              "      const quickchartButtonEl =\n",
              "        document.querySelector('#' + key + ' button');\n",
              "      quickchartButtonEl.disabled = true;  // To prevent multiple clicks.\n",
              "      quickchartButtonEl.classList.add('colab-df-spinner');\n",
              "      try {\n",
              "        const charts = await google.colab.kernel.invokeFunction(\n",
              "            'suggestCharts', [key], {});\n",
              "      } catch (error) {\n",
              "        console.error('Error during call to suggestCharts:', error);\n",
              "      }\n",
              "      quickchartButtonEl.classList.remove('colab-df-spinner');\n",
              "      quickchartButtonEl.classList.add('colab-df-quickchart-complete');\n",
              "    }\n",
              "    (() => {\n",
              "      let quickchartButtonEl =\n",
              "        document.querySelector('#df-75710239-7451-43e7-ace4-c718713cbc40 button');\n",
              "      quickchartButtonEl.style.display =\n",
              "        google.colab.kernel.accessAllowed ? 'block' : 'none';\n",
              "    })();\n",
              "  </script>\n",
              "</div>\n",
              "    </div>\n",
              "  </div>\n"
            ]
          },
          "metadata": {},
          "execution_count": 164
        }
      ]
    },
    {
      "cell_type": "code",
      "source": [
        "# exporting the submission dataframe to a csv file\n",
        "sub.to_csv('Submission.csv',index=False)"
      ],
      "metadata": {
        "id": "NQtIBrG0jrI1"
      },
      "id": "NQtIBrG0jrI1",
      "execution_count": 165,
      "outputs": []
    }
  ],
  "metadata": {
    "kernelspec": {
      "display_name": "Python 3 (ipykernel)",
      "language": "python",
      "name": "python3"
    },
    "language_info": {
      "codemirror_mode": {
        "name": "ipython",
        "version": 3
      },
      "file_extension": ".py",
      "mimetype": "text/x-python",
      "name": "python",
      "nbconvert_exporter": "python",
      "pygments_lexer": "ipython3",
      "version": "3.9.12"
    },
    "colab": {
      "provenance": []
    }
  },
  "nbformat": 4,
  "nbformat_minor": 5
}